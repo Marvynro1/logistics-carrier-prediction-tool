{
 "cells": [
  {
   "cell_type": "code",
   "execution_count": 128,
   "id": "713902d5-0ed2-4f4b-bbc5-ed202e890546",
   "metadata": {},
   "outputs": [],
   "source": [
    "# Core data handling libraries\n",
    "import pandas as pd\n",
    "import numpy as np\n",
    "import seaborn as sns\n",
    "import matplotlib.pyplot as plt\n",
    "#%matplotlib inline\n",
    "\n",
    "# For modeling\n",
    "from sklearn.model_selection import train_test_split\n",
    "from sklearn.ensemble import RandomForestClassifier\n",
    "from sklearn.preprocessing import OneHotEncoder, LabelEncoder\n",
    "from sklearn.compose import ColumnTransformer\n",
    "from sklearn.pipeline import Pipeline\n",
    "from sklearn.metrics import classification_report, confusion_matrix, accuracy_score\n",
    "\n",
    "#For saving the model\n",
    "import joblib"
   ]
  },
  {
   "cell_type": "markdown",
   "id": "3ab75a8b-e617-4ebc-b0b2-7df2739b3af5",
   "metadata": {},
   "source": [
    "# Data Loading and Initial Inspection"
   ]
  },
  {
   "cell_type": "markdown",
   "id": "c84df14c-d63e-4226-9dd2-d3090333eb00",
   "metadata": {},
   "source": [
    "### Load the dataset"
   ]
  },
  {
   "cell_type": "code",
   "execution_count": 129,
   "id": "335d4f57-f1e6-4855-b5c3-a13566d66756",
   "metadata": {},
   "outputs": [],
   "source": [
    "df = pd.read_csv('../data/shipping-data.csv')"
   ]
  },
  {
   "cell_type": "markdown",
   "id": "894beddd-2921-4820-a86d-7c631e281cdc",
   "metadata": {},
   "source": [
    "### Display basic information"
   ]
  },
  {
   "cell_type": "code",
   "execution_count": 130,
   "id": "1f879032-2ce3-47bf-af19-1c7b9ff5d264",
   "metadata": {},
   "outputs": [
    {
     "name": "stdout",
     "output_type": "stream",
     "text": [
      "<class 'pandas.core.frame.DataFrame'>\n",
      "RangeIndex: 1000 entries, 0 to 999\n",
      "Data columns (total 9 columns):\n",
      " #   Column               Non-Null Count  Dtype \n",
      "---  ------               --------------  ----- \n",
      " 0   OrderID              1000 non-null   object\n",
      " 1   Client_Name          1000 non-null   object\n",
      " 2   Destination_Country  1000 non-null   object\n",
      " 3   Shipment_Type        1000 non-null   object\n",
      " 4   Weight_lbs           1000 non-null   int64 \n",
      " 5   Length_in            1000 non-null   int64 \n",
      " 6   Width_in             1000 non-null   int64 \n",
      " 7   Height_in            1000 non-null   int64 \n",
      " 8   Carrier_Service      1000 non-null   object\n",
      "dtypes: int64(4), object(5)\n",
      "memory usage: 70.4+ KB\n",
      "None\n"
     ]
    }
   ],
   "source": [
    "print(df.info())"
   ]
  },
  {
   "cell_type": "markdown",
   "id": "b5c99146-f8a2-4963-94f6-3dbb12a5925a",
   "metadata": {},
   "source": [
    "### Display the first few rows"
   ]
  },
  {
   "cell_type": "code",
   "execution_count": 131,
   "id": "96296bb4-661f-4555-afcf-4caf9a29a1cd",
   "metadata": {},
   "outputs": [
    {
     "name": "stdout",
     "output_type": "stream",
     "text": [
      "    OrderID         Client_Name Destination_Country Shipment_Type  Weight_lbs  \\\n",
      "0  ORD-0001    CanuckIndustries              Canada        Pallet         431   \n",
      "1  ORD-0002           MexiSteel              Mexico         Crate        1269   \n",
      "2  ORD-0003     IndiaSteelworks               India           Box          41   \n",
      "3  ORD-0004           UKConnect      United Kingdom        Pallet         521   \n",
      "4  ORD-0005  BrazilliaMachinery              Brazil         Crate         973   \n",
      "\n",
      "   Length_in  Width_in  Height_in                      Carrier_Service  \n",
      "0         31        28         49                      ABF Freight LTL  \n",
      "1         61        21         24                             SAIA LTL  \n",
      "2         21        19         10                    UPS Express Saver  \n",
      "3         41        31         30                DHL Worldwide Express  \n",
      "4         43        45         45  FedEx International Economy Freight  \n"
     ]
    }
   ],
   "source": [
    "print(df.head())"
   ]
  },
  {
   "cell_type": "markdown",
   "id": "4b0e2f75-de67-4f40-b004-b4e30a892553",
   "metadata": {},
   "source": [
    "# Data Cleaning and Wrangling"
   ]
  },
  {
   "cell_type": "markdown",
   "id": "874d30a7-4334-4422-9548-4a2c3fb1a11b",
   "metadata": {},
   "source": [
    "### Clean string columns\n",
    "Strip potential leading/trailing whitespace and normalize internal whitespace for all object (string) type columns."
   ]
  },
  {
   "cell_type": "code",
   "execution_count": 132,
   "id": "6305b4c2-7383-4fad-a46e-7f69c54ca0ea",
   "metadata": {},
   "outputs": [],
   "source": [
    "for col in df.select_dtypes(include=['object']).columns:\n",
    "    df[col] = df[col].str.strip().str.replace('\\s+', ' ', regex=True)"
   ]
  },
  {
   "cell_type": "markdown",
   "id": "42c76cec-1f17-430d-92a7-a00b49916148",
   "metadata": {},
   "source": [
    "### Verify a few carrier names after cleaning"
   ]
  },
  {
   "cell_type": "code",
   "execution_count": 133,
   "id": "71fae7bc-5fb4-469d-a2c6-6e04a173815a",
   "metadata": {},
   "outputs": [
    {
     "name": "stdout",
     "output_type": "stream",
     "text": [
      "['ABF Freight LTL' 'SAIA LTL' 'UPS Express Saver' 'DHL Worldwide Express'\n",
      " 'FedEx International Economy Freight' 'FedEx Priority Freight LTL'\n",
      " 'FedEx Ground' 'FedEx International Priority'\n",
      " 'FedEx International Economy' 'FedEx International Priority Freight']\n"
     ]
    }
   ],
   "source": [
    "print(df['Carrier_Service'].unique()[:10])"
   ]
  },
  {
   "cell_type": "markdown",
   "id": "acdee3df-d35c-4df4-ad38-be01ef3ee5a9",
   "metadata": {},
   "source": [
    "### Use the .describe() method to generate and print a statistical summary"
   ]
  },
  {
   "cell_type": "code",
   "execution_count": 134,
   "id": "55553d6f-002f-4b7c-88e5-19ba368f1230",
   "metadata": {},
   "outputs": [
    {
     "name": "stdout",
     "output_type": "stream",
     "text": [
      "        Weight_lbs    Length_in     Width_in    Height_in\n",
      "count  1000.000000  1000.000000  1000.000000  1000.000000\n",
      "mean    489.882000    34.083000    23.370000    29.474000\n",
      "std     426.090132    13.626878     9.504496    15.071114\n",
      "min       1.000000    12.000000     7.000000     7.000000\n",
      "25%     123.000000    24.000000    16.000000    15.000000\n",
      "50%     334.500000    31.000000    23.000000    30.000000\n",
      "75%     927.000000    43.000000    30.000000    42.000000\n",
      "max    1299.000000    69.000000    48.000000    59.000000\n"
     ]
    }
   ],
   "source": [
    "summary_stats = df.describe()\n",
    "print(summary_stats)"
   ]
  },
  {
   "cell_type": "markdown",
   "id": "d07e14a2-0554-47d1-8aca-4f9881d10597",
   "metadata": {
    "editable": true,
    "slideshow": {
     "slide_type": ""
    },
    "tags": []
   },
   "source": [
    "### Generate a correlation heatmap"
   ]
  },
  {
   "cell_type": "code",
   "execution_count": 135,
   "id": "c5ed13e6-13fd-43d6-928b-1f8dd8bd2677",
   "metadata": {},
   "outputs": [
    {
     "data": {
      "image/png": "[encoded data removed]",
      "text/plain": [
       "<Figure size 1000x800 with 2 Axes>"
      ]
     },
     "metadata": {},
     "output_type": "display_data"
    }
   ],
   "source": [
    "plt.figure(figsize=(10, 8))\n",
    "sns.heatmap(df.corr(numeric_only=True), annot=True, cmap='viridis', fmt='.2f')\n",
    "plt.title('Correlation Heatmap of Numerical Features')\n",
    "plt.show()"
   ]
  },
  {
   "cell_type": "markdown",
   "id": "07973e9f-4cd0-4bf6-8716-4ab987a43601",
   "metadata": {},
   "source": [
    "# Feature Engineering: Creating Predictive Power (\"Insider Knowledge\")"
   ]
  },
  {
   "cell_type": "markdown",
   "id": "f353cc91-0e0c-4be3-b775-a23c08bc7701",
   "metadata": {},
   "source": [
    "Raw features are often not the most predictive. When it comes to making decisions in logistics, two engineered features will be particularly useful — volume and density.\n",
    "\n",
    "Volume: Calculated as Length x Width x Height. This metric directly quantifies the physical space a shipment occupies, which is an important factor in cost and handling.\n",
    "\n",
    "Density: Calculated as Weight/Volume. This metric distinguishes between items that are small and heavy (like a small box of metal parts) versus those that are large and light (like a large box of hollow PVC valve casings), which very often dictates the type of handling and carrier required."
   ]
  },
  {
   "cell_type": "markdown",
   "id": "4a36a71a-b528-434b-a6c1-0300de3ace17",
   "metadata": {},
   "source": [
    "## Feature Engineering"
   ]
  },
  {
   "cell_type": "code",
   "execution_count": 136,
   "id": "cc6f82f5-677b-452e-81d7-7e23db1493cf",
   "metadata": {},
   "outputs": [],
   "source": [
    "df['Volume_cubic_in'] = df['Length_in'] * df['Width_in'] * df['Height_in']"
   ]
  },
  {
   "cell_type": "markdown",
   "id": "4b8828c1-b134-4651-8f73-56b5cd217fb7",
   "metadata": {},
   "source": [
    "### Calculating density and avoiding division by zero for any potential volume of 0"
   ]
  },
  {
   "cell_type": "code",
   "execution_count": 137,
   "id": "dee4ab4d-5b43-4a3e-88ef-4ca6d1a096ef",
   "metadata": {},
   "outputs": [],
   "source": [
    "df['Density_lbs_per_cubic_in'] = df['Weight_lbs'] / (df['Volume_cubic_in'] + 1e-6)"
   ]
  },
  {
   "cell_type": "markdown",
   "id": "9d3f4ab3-ea7a-420b-a460-b65a82b7dd1a",
   "metadata": {},
   "source": [
    "### Display descriptive statistics including new features"
   ]
  },
  {
   "cell_type": "code",
   "execution_count": 138,
   "id": "851be055-bd15-4089-805a-3a5d6f25241b",
   "metadata": {},
   "outputs": [
    {
     "name": "stdout",
     "output_type": "stream",
     "text": [
      "        Weight_lbs    Length_in     Width_in    Height_in  Volume_cubic_in  \\\n",
      "count  1000.000000  1000.000000  1000.000000  1000.000000      1000.000000   \n",
      "mean    489.882000    34.083000    23.370000    29.474000     29237.282000   \n",
      "std     426.090132    13.626878     9.504496    15.071114     23995.990297   \n",
      "min       1.000000    12.000000     7.000000     7.000000       637.000000   \n",
      "25%     123.000000    24.000000    16.000000    15.000000      5278.000000   \n",
      "50%     334.500000    31.000000    23.000000    30.000000     27000.000000   \n",
      "75%     927.000000    43.000000    30.000000    42.000000     48000.000000   \n",
      "max    1299.000000    69.000000    48.000000    59.000000    123861.000000   \n",
      "\n",
      "       Density_lbs_per_cubic_in  \n",
      "count               1000.000000  \n",
      "mean                   0.026189  \n",
      "std                    0.030173  \n",
      "min                    0.000238  \n",
      "25%                    0.009085  \n",
      "50%                    0.014706  \n",
      "75%                    0.035265  \n",
      "max                    0.216641  \n"
     ]
    }
   ],
   "source": [
    "descriptive_stats = df.describe()\n",
    "print(descriptive_stats)"
   ]
  },
  {
   "cell_type": "markdown",
   "id": "8d4e1776-5b45-4952-b555-f250e59e3704",
   "metadata": {},
   "source": [
    "# Preprocessing for Modeling"
   ]
  },
  {
   "cell_type": "markdown",
   "id": "97ddd579-51e4-498c-ad67-ccb88f86bbe0",
   "metadata": {},
   "source": [
    "### Model 1: Shipment Type Classifier"
   ]
  },
  {
   "cell_type": "code",
   "execution_count": 139,
   "id": "c32db612-3bd4-4cf7-9a27-e5ee031108b5",
   "metadata": {},
   "outputs": [
    {
     "name": "stdout",
     "output_type": "stream",
     "text": [
      "--- Shipment Classifier Performance ---\n",
      "              precision    recall  f1-score   support\n",
      "\n",
      "         Box       1.00      1.00      1.00        70\n",
      "       Crate       1.00      0.94      0.97        71\n",
      "      Pallet       0.94      1.00      0.97        59\n",
      "\n",
      "    accuracy                           0.98       200\n",
      "   macro avg       0.98      0.98      0.98       200\n",
      "weighted avg       0.98      0.98      0.98       200\n",
      "\n"
     ]
    }
   ],
   "source": [
    "# Define the features (X1) and target (y1) for the first model\n",
    "X1 = df[['Weight_lbs', 'Length_in', 'Width_in', 'Height_in', 'Volume_cubic_in', 'Density_lbs_per_cubic_in']]\n",
    "y1 = df['Shipment_Type']\n",
    "\n",
    "# Split the data for Model 1\n",
    "X1_train, X1_test, y1_train, y1_test = train_test_split(X1, y1, test_size=0.2, random_state=42, stratify=y1)\n",
    "\n",
    "# Train the classifier\n",
    "shipment_classifier = RandomForestClassifier(n_estimators=100, random_state=42)\n",
    "shipment_classifier.fit(X1_train, y1_train)\n",
    "\n",
    "# Evaluate the classifier\n",
    "y1_pred = shipment_classifier.predict(X1_test)\n",
    "print(\"--- Shipment Classifier Performance ---\")\n",
    "print(classification_report(y1_test, y1_pred))"
   ]
  },
  {
   "cell_type": "markdown",
   "id": "aa86e772-031a-4d87-842c-8c5e3ae4bffd",
   "metadata": {},
   "source": [
    "### Model 2: Carrier Predictor"
   ]
  },
  {
   "cell_type": "code",
   "execution_count": 140,
   "id": "53648adb-80a0-48cd-962d-bc9fbd09715f",
   "metadata": {},
   "outputs": [
    {
     "name": "stdout",
     "output_type": "stream",
     "text": [
      "\n",
      "--- Carrier Predictor Performance ---\n",
      "Accuracy: 0.9850\n",
      "                                      precision    recall  f1-score   support\n",
      "\n",
      "                     ABF Freight LTL       1.00      1.00      1.00        13\n",
      "               DHL Worldwide Express       0.92      0.96      0.94        24\n",
      "           FedEx Economy Freight LTL       1.00      1.00      1.00         7\n",
      "                        FedEx Ground       1.00      1.00      1.00         7\n",
      "         FedEx International Economy       1.00      1.00      1.00        15\n",
      " FedEx International Economy Freight       1.00      1.00      1.00        35\n",
      "        FedEx International Priority       1.00      1.00      1.00        13\n",
      "FedEx International Priority Freight       0.96      0.92      0.94        24\n",
      "          FedEx Priority Freight LTL       1.00      1.00      1.00        21\n",
      "            FedEx Priority Overnight       1.00      1.00      1.00         3\n",
      "                            SAIA LTL       1.00      1.00      1.00        20\n",
      "                   UPS Express Saver       1.00      1.00      1.00        14\n",
      "                          UPS Ground       1.00      1.00      1.00         4\n",
      "\n",
      "                            accuracy                           0.98       200\n",
      "                           macro avg       0.99      0.99      0.99       200\n",
      "                        weighted avg       0.99      0.98      0.98       200\n",
      "\n"
     ]
    }
   ],
   "source": [
    "# Add the prediction from Model 1 as a new feature\n",
    "df['predicted_shipment_type'] = shipment_classifier.predict(X1)\n",
    "\n",
    "# Define features and target for the second model\n",
    "categorical_features = ['Client_Name', 'Destination_Country', 'predicted_shipment_type']\n",
    "numerical_features = ['Weight_lbs', 'Length_in', 'Width_in', 'Height_in', 'Volume_cubic_in', 'Density_lbs_per_cubic_in']\n",
    "X2 = df[categorical_features + numerical_features]\n",
    "y2 = df['Carrier_Service']\n",
    "\n",
    "# The target variable (y2) is text, so it needs to be encoded into numbers for the model\n",
    "le = LabelEncoder()\n",
    "y2_encoded = le.fit_transform(y2)\n",
    "\n",
    "# Split the data for Model 2\n",
    "X2_train, X2_test, y2_train, y2_test = train_test_split(X2, y2_encoded, test_size=0.2, random_state=42, stratify=y2_encoded)\n",
    "\n",
    "# Create a preprocessing pipeline to handle categorical and numerical features differently\n",
    "preprocessor = ColumnTransformer(\n",
    "    transformers=[\n",
    "        ('num', 'passthrough', numerical_features),\n",
    "        ('cat', OneHotEncoder(handle_unknown='ignore'), categorical_features)\n",
    "    ])\n",
    "\n",
    "# Create the full prediction pipeline, which first preprocesses the data and then runs the classifier\n",
    "carrier_predictor = Pipeline(steps=[\n",
    "    ('preprocessor', preprocessor),\n",
    "    ('classifier', RandomForestClassifier(n_estimators=100, random_state=42))\n",
    "])\n",
    "\n",
    "# Train the final pipeline\n",
    "carrier_predictor.fit(X2_train, y2_train)\n",
    "\n",
    "# Make predictions and evaluate Model 2\n",
    "y2_pred = carrier_predictor.predict(X2_test)\n",
    "print(\"\\n--- Carrier Predictor Performance ---\")\n",
    "print(f\"Accuracy: {accuracy_score(y2_test, y2_pred):.4f}\")\n",
    "print(classification_report(y2_test, y2_pred, target_names=le.classes_, zero_division=0))"
   ]
  },
  {
   "cell_type": "markdown",
   "id": "0d0b37a9-52b4-497b-958f-9507adf64951",
   "metadata": {},
   "source": [
    "### Check the training accuracy to compare with test accuracy and check for overfitting"
   ]
  },
  {
   "cell_type": "code",
   "execution_count": 141,
   "id": "4c15f571-81d4-405b-823a-761e3488b963",
   "metadata": {},
   "outputs": [
    {
     "name": "stdout",
     "output_type": "stream",
     "text": [
      "\n",
      "--- Overfitting Check ---\n",
      "Shipment Classifier Training Accuracy: 1.0000\n",
      "Shipment Classifier Testing Accuracy: 0.9800\n",
      "--------------------\n",
      "Carrier Predictor Training Accuracy: 1.0000\n",
      "Carrier Predictor Testing Accuracy: 0.9850\n"
     ]
    }
   ],
   "source": [
    "print(\"\\n--- Overfitting Check ---\")\n",
    "\n",
    "# Check the training accuracy for the first model\n",
    "train_accuracy_model1= shipment_classifier.score(X1_train, y1_train)\n",
    "test_accuracy_model1 = shipment_classifier.score(X1_test, y1_test)\n",
    "print(f\"Shipment Classifier Training Accuracy: {train_accuracy_model1:.4f}\")\n",
    "print(f\"Shipment Classifier Testing Accuracy: {test_accuracy_model1:.4f}\")\n",
    "\n",
    "print(\"-\" * 20)\n",
    "\n",
    "# Check the training accuracy for the second model\n",
    "train_accuracy_model2 = carrier_predictor.score(X2_train, y2_train)\n",
    "test_accuracy_model2 = carrier_predictor.score(X2_test, y2_test)\n",
    "print(f\"Carrier Predictor Training Accuracy: {train_accuracy_model2:.4f}\")\n",
    "print(f\"Carrier Predictor Testing Accuracy: {test_accuracy_model2:.4f}\")"
   ]
  },
  {
   "cell_type": "markdown",
   "id": "45440b83-bee5-4313-9e45-2e5b795c483f",
   "metadata": {},
   "source": [
    "### Serialization: Packaging Models for Production\n",
    "Save the models and encoders. The preprocessor is already part of the carrier_predictive pipeline, so it gets saved with it."
   ]
  },
  {
   "cell_type": "code",
   "execution_count": null,
   "id": "3fe71ca6-b67e-40aa-983b-da41171e1f94",
   "metadata": {},
   "outputs": [],
   "source": [
    "joblib.dump(shipment_classifier, '../models/shipment_classifier.joblib')\n",
    "joblib.dump(carrier_predictor, '../models/carrier_predictor.joblib')\n",
    "joblib.dump(le, '../models/carrier_label_encoder.joblib')"
   ]
  }
 ],
 "metadata": {
  "kernelspec": {
   "display_name": "Python 3 (ipykernel)",
   "language": "python",
   "name": "python3"
  },
  "language_info": {
   "codemirror_mode": {
    "name": "ipython",
    "version": 3
   },
   "file_extension": ".py",
   "mimetype": "text/x-python",
   "name": "python",
   "nbconvert_exporter": "python",
   "pygments_lexer": "ipython3",
   "version": "3.11.13"
  }
 },
 "nbformat": 4,
 "nbformat_minor": 5
}
